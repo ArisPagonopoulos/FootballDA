{
 "cells": [
  {
   "cell_type": "markdown",
   "id": "0cf2ba2c",
   "metadata": {},
   "source": [
    "<h1 align = \"center\"> TRANSFERMARKT DATA ANALYSIS </h1> "
   ]
  },
  {
   "cell_type": "markdown",
   "id": "ea98d42f",
   "metadata": {},
   "source": [
    "<p center = \"align\"> <img src = \"https://upload.wikimedia.org/wikipedia/commons/thumb/b/b9/Football_iu_1996.jpg/300px-Football_iu_1996.jpg\"> </p>"
   ]
  },
  {
   "cell_type": "code",
   "execution_count": 226,
   "id": "54b70662",
   "metadata": {},
   "outputs": [],
   "source": [
    "import pandas as pd \n",
    "import numpy as np \n",
    "from matplotlib import pyplot as plt\n",
    "import seaborn as sns\n",
    "sns.set_theme()"
   ]
  },
  {
   "cell_type": "code",
   "execution_count": 227,
   "id": "c5007660",
   "metadata": {},
   "outputs": [],
   "source": [
    "leagues = pd.read_csv(\"datasets\\\\football\\\\leagues.csv\")"
   ]
  },
  {
   "cell_type": "code",
   "execution_count": 228,
   "id": "60319755",
   "metadata": {},
   "outputs": [
    {
     "data": {
      "text/html": [
       "<div>\n",
       "<style scoped>\n",
       "    .dataframe tbody tr th:only-of-type {\n",
       "        vertical-align: middle;\n",
       "    }\n",
       "\n",
       "    .dataframe tbody tr th {\n",
       "        vertical-align: top;\n",
       "    }\n",
       "\n",
       "    .dataframe thead th {\n",
       "        text-align: right;\n",
       "    }\n",
       "</style>\n",
       "<table border=\"1\" class=\"dataframe\">\n",
       "  <thead>\n",
       "    <tr style=\"text-align: right;\">\n",
       "      <th></th>\n",
       "      <th>league_id</th>\n",
       "      <th>name</th>\n",
       "      <th>confederation</th>\n",
       "    </tr>\n",
       "  </thead>\n",
       "  <tbody>\n",
       "    <tr>\n",
       "      <th>0</th>\n",
       "      <td>L1</td>\n",
       "      <td>bundesliga</td>\n",
       "      <td>europa</td>\n",
       "    </tr>\n",
       "    <tr>\n",
       "      <th>1</th>\n",
       "      <td>NL1</td>\n",
       "      <td>eredivisie</td>\n",
       "      <td>europa</td>\n",
       "    </tr>\n",
       "    <tr>\n",
       "      <th>2</th>\n",
       "      <td>BE1</td>\n",
       "      <td>jupiler-pro-league</td>\n",
       "      <td>europa</td>\n",
       "    </tr>\n",
       "    <tr>\n",
       "      <th>3</th>\n",
       "      <td>ES1</td>\n",
       "      <td>laliga</td>\n",
       "      <td>europa</td>\n",
       "    </tr>\n",
       "    <tr>\n",
       "      <th>4</th>\n",
       "      <td>PO1</td>\n",
       "      <td>liga-nos</td>\n",
       "      <td>europa</td>\n",
       "    </tr>\n",
       "  </tbody>\n",
       "</table>\n",
       "</div>"
      ],
      "text/plain": [
       "  league_id                name confederation\n",
       "0        L1          bundesliga        europa\n",
       "1       NL1          eredivisie        europa\n",
       "2       BE1  jupiler-pro-league        europa\n",
       "3       ES1              laliga        europa\n",
       "4       PO1            liga-nos        europa"
      ]
     },
     "execution_count": 228,
     "metadata": {},
     "output_type": "execute_result"
    }
   ],
   "source": [
    "leagues.head()"
   ]
  },
  {
   "cell_type": "code",
   "execution_count": 229,
   "id": "82ed31a0",
   "metadata": {
    "scrolled": false
   },
   "outputs": [],
   "source": [
    "leagues.rename(columns={\"league_id\":\"domestic_competition_id\"},inplace=True)"
   ]
  },
  {
   "cell_type": "code",
   "execution_count": 230,
   "id": "e98fc964",
   "metadata": {},
   "outputs": [],
   "source": [
    "clubs = pd.read_csv(\"datasets\\\\football\\\\clubs.csv\")"
   ]
  },
  {
   "cell_type": "code",
   "execution_count": 231,
   "id": "39f72d37",
   "metadata": {
    "scrolled": true
   },
   "outputs": [
    {
     "data": {
      "text/html": [
       "<div>\n",
       "<style scoped>\n",
       "    .dataframe tbody tr th:only-of-type {\n",
       "        vertical-align: middle;\n",
       "    }\n",
       "\n",
       "    .dataframe tbody tr th {\n",
       "        vertical-align: top;\n",
       "    }\n",
       "\n",
       "    .dataframe thead th {\n",
       "        text-align: right;\n",
       "    }\n",
       "</style>\n",
       "<table border=\"1\" class=\"dataframe\">\n",
       "  <thead>\n",
       "    <tr style=\"text-align: right;\">\n",
       "      <th></th>\n",
       "      <th>club_id</th>\n",
       "      <th>name</th>\n",
       "      <th>pretty_name</th>\n",
       "      <th>domestic_competition_id</th>\n",
       "      <th>total_market_value</th>\n",
       "      <th>squad_size</th>\n",
       "      <th>average_age</th>\n",
       "      <th>foreigners_number</th>\n",
       "      <th>foreigners_percentage</th>\n",
       "      <th>national_team_players</th>\n",
       "      <th>stadium_name</th>\n",
       "      <th>stadium_seats</th>\n",
       "      <th>net_transfer_record</th>\n",
       "      <th>coach_name</th>\n",
       "      <th>url</th>\n",
       "    </tr>\n",
       "  </thead>\n",
       "  <tbody>\n",
       "    <tr>\n",
       "      <th>0</th>\n",
       "      <td>1032</td>\n",
       "      <td>fc-reading</td>\n",
       "      <td>Fc Reading</td>\n",
       "      <td>GB1</td>\n",
       "      <td>33.66</td>\n",
       "      <td>26</td>\n",
       "      <td>25.9</td>\n",
       "      <td>12</td>\n",
       "      <td>46.2</td>\n",
       "      <td>6</td>\n",
       "      <td>Select Car Leasing Stadium</td>\n",
       "      <td>24161</td>\n",
       "      <td>+£8.37m</td>\n",
       "      <td>Brian McDermott</td>\n",
       "      <td>https://www.transfermarkt.co.uk/fc-reading/sta...</td>\n",
       "    </tr>\n",
       "    <tr>\n",
       "      <th>1</th>\n",
       "      <td>2323</td>\n",
       "      <td>orduspor</td>\n",
       "      <td>Orduspor</td>\n",
       "      <td>TR1</td>\n",
       "      <td>NaN</td>\n",
       "      <td>0</td>\n",
       "      <td>NaN</td>\n",
       "      <td>0</td>\n",
       "      <td>NaN</td>\n",
       "      <td>0</td>\n",
       "      <td>19 Eylül Stadyum</td>\n",
       "      <td>11024</td>\n",
       "      <td>+-0</td>\n",
       "      <td>Héctor Cúper</td>\n",
       "      <td>https://www.transfermarkt.co.uk/orduspor/start...</td>\n",
       "    </tr>\n",
       "    <tr>\n",
       "      <th>2</th>\n",
       "      <td>1387</td>\n",
       "      <td>acn-siena-1904</td>\n",
       "      <td>Acn Siena 1904</td>\n",
       "      <td>IT1</td>\n",
       "      <td>4.32</td>\n",
       "      <td>30</td>\n",
       "      <td>26.2</td>\n",
       "      <td>6</td>\n",
       "      <td>20.0</td>\n",
       "      <td>2</td>\n",
       "      <td>Artemio Franchi</td>\n",
       "      <td>15373</td>\n",
       "      <td>£-6Th.</td>\n",
       "      <td>Serse Cosmi</td>\n",
       "      <td>https://www.transfermarkt.co.uk/acn-siena-1904...</td>\n",
       "    </tr>\n",
       "    <tr>\n",
       "      <th>3</th>\n",
       "      <td>3592</td>\n",
       "      <td>kryvbas-kryvyi-rig</td>\n",
       "      <td>Kryvbas Kryvyi Rig</td>\n",
       "      <td>UKR1</td>\n",
       "      <td>2.95</td>\n",
       "      <td>24</td>\n",
       "      <td>24.5</td>\n",
       "      <td>2</td>\n",
       "      <td>8.3</td>\n",
       "      <td>0</td>\n",
       "      <td>Shakhty Zhovtneva</td>\n",
       "      <td>2500</td>\n",
       "      <td>£-270Th.</td>\n",
       "      <td>Oleg Taran</td>\n",
       "      <td>https://www.transfermarkt.co.uk/kryvbas-kryvyi...</td>\n",
       "    </tr>\n",
       "    <tr>\n",
       "      <th>4</th>\n",
       "      <td>1071</td>\n",
       "      <td>wigan-athletic</td>\n",
       "      <td>Wigan Athletic</td>\n",
       "      <td>GB1</td>\n",
       "      <td>12.38</td>\n",
       "      <td>29</td>\n",
       "      <td>26.5</td>\n",
       "      <td>14</td>\n",
       "      <td>48.3</td>\n",
       "      <td>6</td>\n",
       "      <td>DW Stadium</td>\n",
       "      <td>25133</td>\n",
       "      <td>£-140Th.</td>\n",
       "      <td>Roberto Martínez</td>\n",
       "      <td>https://www.transfermarkt.co.uk/wigan-athletic...</td>\n",
       "    </tr>\n",
       "  </tbody>\n",
       "</table>\n",
       "</div>"
      ],
      "text/plain": [
       "   club_id                name         pretty_name domestic_competition_id  \\\n",
       "0     1032          fc-reading          Fc Reading                     GB1   \n",
       "1     2323            orduspor            Orduspor                     TR1   \n",
       "2     1387      acn-siena-1904      Acn Siena 1904                     IT1   \n",
       "3     3592  kryvbas-kryvyi-rig  Kryvbas Kryvyi Rig                    UKR1   \n",
       "4     1071      wigan-athletic      Wigan Athletic                     GB1   \n",
       "\n",
       "   total_market_value  squad_size  average_age  foreigners_number  \\\n",
       "0               33.66          26         25.9                 12   \n",
       "1                 NaN           0          NaN                  0   \n",
       "2                4.32          30         26.2                  6   \n",
       "3                2.95          24         24.5                  2   \n",
       "4               12.38          29         26.5                 14   \n",
       "\n",
       "   foreigners_percentage  national_team_players                stadium_name  \\\n",
       "0                   46.2                      6  Select Car Leasing Stadium   \n",
       "1                    NaN                      0            19 Eylül Stadyum   \n",
       "2                   20.0                      2             Artemio Franchi   \n",
       "3                    8.3                      0           Shakhty Zhovtneva   \n",
       "4                   48.3                      6                  DW Stadium   \n",
       "\n",
       "   stadium_seats net_transfer_record        coach_name  \\\n",
       "0          24161             +£8.37m   Brian McDermott   \n",
       "1          11024                 +-0      Héctor Cúper   \n",
       "2          15373              £-6Th.       Serse Cosmi   \n",
       "3           2500            £-270Th.        Oleg Taran   \n",
       "4          25133            £-140Th.  Roberto Martínez   \n",
       "\n",
       "                                                 url  \n",
       "0  https://www.transfermarkt.co.uk/fc-reading/sta...  \n",
       "1  https://www.transfermarkt.co.uk/orduspor/start...  \n",
       "2  https://www.transfermarkt.co.uk/acn-siena-1904...  \n",
       "3  https://www.transfermarkt.co.uk/kryvbas-kryvyi...  \n",
       "4  https://www.transfermarkt.co.uk/wigan-athletic...  "
      ]
     },
     "execution_count": 231,
     "metadata": {},
     "output_type": "execute_result"
    }
   ],
   "source": [
    "clubs.head()"
   ]
  },
  {
   "cell_type": "markdown",
   "id": "0e656304",
   "metadata": {},
   "source": [
    "## Let's get the Greek League Clubs"
   ]
  },
  {
   "cell_type": "code",
   "execution_count": 232,
   "id": "f8ea2200",
   "metadata": {},
   "outputs": [],
   "source": [
    "greek_league=clubs[clubs.domestic_competition_id==\"GR1\"]"
   ]
  },
  {
   "cell_type": "code",
   "execution_count": 233,
   "id": "374bf55d",
   "metadata": {},
   "outputs": [],
   "source": [
    "greek_league=greek_league.drop([\"domestic_competition_id\",\"stadium_name\",\"coach_name\"],axis=1)"
   ]
  },
  {
   "cell_type": "code",
   "execution_count": 234,
   "id": "5de248b0",
   "metadata": {
    "scrolled": false
   },
   "outputs": [
    {
     "data": {
      "text/plain": [
       "Index(['club_id', 'name', 'pretty_name', 'total_market_value', 'squad_size',\n",
       "       'average_age', 'foreigners_number', 'foreigners_percentage',\n",
       "       'national_team_players', 'stadium_seats', 'net_transfer_record', 'url'],\n",
       "      dtype='object')"
      ]
     },
     "execution_count": 234,
     "metadata": {},
     "output_type": "execute_result"
    }
   ],
   "source": [
    "greek_league.columns"
   ]
  },
  {
   "cell_type": "markdown",
   "id": "c08c26ed",
   "metadata": {},
   "source": [
    "## Which team has the highest market value?"
   ]
  },
  {
   "cell_type": "code",
   "execution_count": 235,
   "id": "5a35e76e",
   "metadata": {
    "scrolled": false
   },
   "outputs": [
    {
     "data": {
      "text/html": [
       "<div>\n",
       "<style scoped>\n",
       "    .dataframe tbody tr th:only-of-type {\n",
       "        vertical-align: middle;\n",
       "    }\n",
       "\n",
       "    .dataframe tbody tr th {\n",
       "        vertical-align: top;\n",
       "    }\n",
       "\n",
       "    .dataframe thead th {\n",
       "        text-align: right;\n",
       "    }\n",
       "</style>\n",
       "<table border=\"1\" class=\"dataframe\">\n",
       "  <thead>\n",
       "    <tr style=\"text-align: right;\">\n",
       "      <th></th>\n",
       "      <th>name</th>\n",
       "      <th>total_market_value</th>\n",
       "    </tr>\n",
       "  </thead>\n",
       "  <tbody>\n",
       "    <tr>\n",
       "      <th>218</th>\n",
       "      <td>olympiakos-piraus</td>\n",
       "      <td>92.70</td>\n",
       "    </tr>\n",
       "    <tr>\n",
       "      <th>217</th>\n",
       "      <td>paok-thessaloniki</td>\n",
       "      <td>50.27</td>\n",
       "    </tr>\n",
       "    <tr>\n",
       "      <th>221</th>\n",
       "      <td>aek-athen</td>\n",
       "      <td>39.51</td>\n",
       "    </tr>\n",
       "    <tr>\n",
       "      <th>215</th>\n",
       "      <td>panathinaikos-athen</td>\n",
       "      <td>29.21</td>\n",
       "    </tr>\n",
       "    <tr>\n",
       "      <th>214</th>\n",
       "      <td>aris-thessaloniki</td>\n",
       "      <td>21.40</td>\n",
       "    </tr>\n",
       "    <tr>\n",
       "      <th>213</th>\n",
       "      <td>ofi-kreta</td>\n",
       "      <td>12.11</td>\n",
       "    </tr>\n",
       "    <tr>\n",
       "      <th>263</th>\n",
       "      <td>atromitos-athen</td>\n",
       "      <td>10.40</td>\n",
       "    </tr>\n",
       "    <tr>\n",
       "      <th>212</th>\n",
       "      <td>pas-giannina</td>\n",
       "      <td>9.05</td>\n",
       "    </tr>\n",
       "    <tr>\n",
       "      <th>210</th>\n",
       "      <td>panetolikos-gfs</td>\n",
       "      <td>8.73</td>\n",
       "    </tr>\n",
       "    <tr>\n",
       "      <th>211</th>\n",
       "      <td>asteras-tripolis</td>\n",
       "      <td>8.44</td>\n",
       "    </tr>\n",
       "    <tr>\n",
       "      <th>209</th>\n",
       "      <td>volos-nps</td>\n",
       "      <td>8.28</td>\n",
       "    </tr>\n",
       "    <tr>\n",
       "      <th>171</th>\n",
       "      <td>ionikos-nikeas</td>\n",
       "      <td>7.29</td>\n",
       "    </tr>\n",
       "    <tr>\n",
       "      <th>170</th>\n",
       "      <td>pas-lamia-1964</td>\n",
       "      <td>6.62</td>\n",
       "    </tr>\n",
       "    <tr>\n",
       "      <th>92</th>\n",
       "      <td>apo-levadiakos</td>\n",
       "      <td>5.69</td>\n",
       "    </tr>\n",
       "    <tr>\n",
       "      <th>175</th>\n",
       "      <td>apollon-smyrnis</td>\n",
       "      <td>5.45</td>\n",
       "    </tr>\n",
       "    <tr>\n",
       "      <th>113</th>\n",
       "      <td>ao-xanthi</td>\n",
       "      <td>5.36</td>\n",
       "    </tr>\n",
       "    <tr>\n",
       "      <th>141</th>\n",
       "      <td>ae-larisa</td>\n",
       "      <td>5.24</td>\n",
       "    </tr>\n",
       "    <tr>\n",
       "      <th>56</th>\n",
       "      <td>veria-nps</td>\n",
       "      <td>4.88</td>\n",
       "    </tr>\n",
       "    <tr>\n",
       "      <th>26</th>\n",
       "      <td>gs-ergotelis</td>\n",
       "      <td>3.96</td>\n",
       "    </tr>\n",
       "    <tr>\n",
       "      <th>59</th>\n",
       "      <td>iraklis-thessaloniki</td>\n",
       "      <td>3.40</td>\n",
       "    </tr>\n",
       "    <tr>\n",
       "      <th>22</th>\n",
       "      <td>niki-volou</td>\n",
       "      <td>3.40</td>\n",
       "    </tr>\n",
       "    <tr>\n",
       "      <th>109</th>\n",
       "      <td>panionios-athen</td>\n",
       "      <td>1.62</td>\n",
       "    </tr>\n",
       "  </tbody>\n",
       "</table>\n",
       "</div>"
      ],
      "text/plain": [
       "                     name  total_market_value\n",
       "218     olympiakos-piraus               92.70\n",
       "217     paok-thessaloniki               50.27\n",
       "221             aek-athen               39.51\n",
       "215   panathinaikos-athen               29.21\n",
       "214     aris-thessaloniki               21.40\n",
       "213             ofi-kreta               12.11\n",
       "263       atromitos-athen               10.40\n",
       "212          pas-giannina                9.05\n",
       "210       panetolikos-gfs                8.73\n",
       "211      asteras-tripolis                8.44\n",
       "209             volos-nps                8.28\n",
       "171        ionikos-nikeas                7.29\n",
       "170        pas-lamia-1964                6.62\n",
       "92         apo-levadiakos                5.69\n",
       "175       apollon-smyrnis                5.45\n",
       "113             ao-xanthi                5.36\n",
       "141             ae-larisa                5.24\n",
       "56              veria-nps                4.88\n",
       "26           gs-ergotelis                3.96\n",
       "59   iraklis-thessaloniki                3.40\n",
       "22             niki-volou                3.40\n",
       "109       panionios-athen                1.62"
      ]
     },
     "execution_count": 235,
     "metadata": {},
     "output_type": "execute_result"
    }
   ],
   "source": [
    "greek_league[[\"name\",\"total_market_value\"]].sort_values(by=\"total_market_value\",ascending=False).dropna()"
   ]
  },
  {
   "cell_type": "markdown",
   "id": "0a8faab4",
   "metadata": {},
   "source": [
    "## Which team has the highest percentage of foreigners?"
   ]
  },
  {
   "cell_type": "code",
   "execution_count": 236,
   "id": "1f480fd3",
   "metadata": {
    "scrolled": false
   },
   "outputs": [
    {
     "data": {
      "text/html": [
       "<div>\n",
       "<style scoped>\n",
       "    .dataframe tbody tr th:only-of-type {\n",
       "        vertical-align: middle;\n",
       "    }\n",
       "\n",
       "    .dataframe tbody tr th {\n",
       "        vertical-align: top;\n",
       "    }\n",
       "\n",
       "    .dataframe thead th {\n",
       "        text-align: right;\n",
       "    }\n",
       "</style>\n",
       "<table border=\"1\" class=\"dataframe\">\n",
       "  <thead>\n",
       "    <tr style=\"text-align: right;\">\n",
       "      <th></th>\n",
       "      <th>name</th>\n",
       "      <th>foreigners_percentage</th>\n",
       "    </tr>\n",
       "  </thead>\n",
       "  <tbody>\n",
       "    <tr>\n",
       "      <th>217</th>\n",
       "      <td>paok-thessaloniki</td>\n",
       "      <td>78.6</td>\n",
       "    </tr>\n",
       "    <tr>\n",
       "      <th>214</th>\n",
       "      <td>aris-thessaloniki</td>\n",
       "      <td>75.8</td>\n",
       "    </tr>\n",
       "    <tr>\n",
       "      <th>209</th>\n",
       "      <td>volos-nps</td>\n",
       "      <td>73.1</td>\n",
       "    </tr>\n",
       "    <tr>\n",
       "      <th>221</th>\n",
       "      <td>aek-athen</td>\n",
       "      <td>69.0</td>\n",
       "    </tr>\n",
       "    <tr>\n",
       "      <th>218</th>\n",
       "      <td>olympiakos-piraus</td>\n",
       "      <td>65.8</td>\n",
       "    </tr>\n",
       "    <tr>\n",
       "      <th>175</th>\n",
       "      <td>apollon-smyrnis</td>\n",
       "      <td>62.5</td>\n",
       "    </tr>\n",
       "    <tr>\n",
       "      <th>215</th>\n",
       "      <td>panathinaikos-athen</td>\n",
       "      <td>62.1</td>\n",
       "    </tr>\n",
       "    <tr>\n",
       "      <th>43</th>\n",
       "      <td>panthrakikos-komotini</td>\n",
       "      <td>60.0</td>\n",
       "    </tr>\n",
       "    <tr>\n",
       "      <th>211</th>\n",
       "      <td>asteras-tripolis</td>\n",
       "      <td>60.0</td>\n",
       "    </tr>\n",
       "    <tr>\n",
       "      <th>210</th>\n",
       "      <td>panetolikos-gfs</td>\n",
       "      <td>53.6</td>\n",
       "    </tr>\n",
       "    <tr>\n",
       "      <th>171</th>\n",
       "      <td>ionikos-nikeas</td>\n",
       "      <td>48.1</td>\n",
       "    </tr>\n",
       "    <tr>\n",
       "      <th>92</th>\n",
       "      <td>apo-levadiakos</td>\n",
       "      <td>46.2</td>\n",
       "    </tr>\n",
       "    <tr>\n",
       "      <th>213</th>\n",
       "      <td>ofi-kreta</td>\n",
       "      <td>42.9</td>\n",
       "    </tr>\n",
       "    <tr>\n",
       "      <th>212</th>\n",
       "      <td>pas-giannina</td>\n",
       "      <td>42.9</td>\n",
       "    </tr>\n",
       "    <tr>\n",
       "      <th>263</th>\n",
       "      <td>atromitos-athen</td>\n",
       "      <td>41.4</td>\n",
       "    </tr>\n",
       "    <tr>\n",
       "      <th>170</th>\n",
       "      <td>pas-lamia-1964</td>\n",
       "      <td>37.5</td>\n",
       "    </tr>\n",
       "    <tr>\n",
       "      <th>26</th>\n",
       "      <td>gs-ergotelis</td>\n",
       "      <td>33.3</td>\n",
       "    </tr>\n",
       "    <tr>\n",
       "      <th>78</th>\n",
       "      <td>aok-kerkyra</td>\n",
       "      <td>28.6</td>\n",
       "    </tr>\n",
       "    <tr>\n",
       "      <th>113</th>\n",
       "      <td>ao-xanthi</td>\n",
       "      <td>26.7</td>\n",
       "    </tr>\n",
       "    <tr>\n",
       "      <th>59</th>\n",
       "      <td>iraklis-thessaloniki</td>\n",
       "      <td>25.8</td>\n",
       "    </tr>\n",
       "    <tr>\n",
       "      <th>109</th>\n",
       "      <td>panionios-athen</td>\n",
       "      <td>25.0</td>\n",
       "    </tr>\n",
       "    <tr>\n",
       "      <th>22</th>\n",
       "      <td>niki-volou</td>\n",
       "      <td>25.0</td>\n",
       "    </tr>\n",
       "    <tr>\n",
       "      <th>141</th>\n",
       "      <td>ae-larisa</td>\n",
       "      <td>20.0</td>\n",
       "    </tr>\n",
       "    <tr>\n",
       "      <th>56</th>\n",
       "      <td>veria-nps</td>\n",
       "      <td>17.2</td>\n",
       "    </tr>\n",
       "  </tbody>\n",
       "</table>\n",
       "</div>"
      ],
      "text/plain": [
       "                      name  foreigners_percentage\n",
       "217      paok-thessaloniki                   78.6\n",
       "214      aris-thessaloniki                   75.8\n",
       "209              volos-nps                   73.1\n",
       "221              aek-athen                   69.0\n",
       "218      olympiakos-piraus                   65.8\n",
       "175        apollon-smyrnis                   62.5\n",
       "215    panathinaikos-athen                   62.1\n",
       "43   panthrakikos-komotini                   60.0\n",
       "211       asteras-tripolis                   60.0\n",
       "210        panetolikos-gfs                   53.6\n",
       "171         ionikos-nikeas                   48.1\n",
       "92          apo-levadiakos                   46.2\n",
       "213              ofi-kreta                   42.9\n",
       "212           pas-giannina                   42.9\n",
       "263        atromitos-athen                   41.4\n",
       "170         pas-lamia-1964                   37.5\n",
       "26            gs-ergotelis                   33.3\n",
       "78             aok-kerkyra                   28.6\n",
       "113              ao-xanthi                   26.7\n",
       "59    iraklis-thessaloniki                   25.8\n",
       "109        panionios-athen                   25.0\n",
       "22              niki-volou                   25.0\n",
       "141              ae-larisa                   20.0\n",
       "56               veria-nps                   17.2"
      ]
     },
     "execution_count": 236,
     "metadata": {},
     "output_type": "execute_result"
    }
   ],
   "source": [
    "greek_league[[\"name\",\"foreigners_percentage\"]].sort_values(by=\"foreigners_percentage\",ascending=False).dropna()"
   ]
  },
  {
   "cell_type": "markdown",
   "id": "501c2730",
   "metadata": {},
   "source": [
    "## That's a bit suprising ... I expected my favorite club (Aris FC) to be the first, because we rarely play with a greek player on the field. Let's find the greek players for the first two teams in the above ranking."
   ]
  },
  {
   "cell_type": "code",
   "execution_count": 237,
   "id": "6aa9b1bb",
   "metadata": {},
   "outputs": [],
   "source": [
    "players = pd.read_csv(\"datasets\\\\football\\\\players.csv\")"
   ]
  },
  {
   "cell_type": "code",
   "execution_count": 238,
   "id": "784cf8b3",
   "metadata": {
    "scrolled": true
   },
   "outputs": [
    {
     "data": {
      "text/plain": [
       "Index(['player_id', 'last_season', 'current_club_id', 'name', 'pretty_name',\n",
       "       'country_of_birth', 'country_of_citizenship', 'date_of_birth',\n",
       "       'position', 'sub_position', 'foot', 'height_in_cm',\n",
       "       'market_value_in_gbp', 'highest_market_value_in_gbp', 'url'],\n",
       "      dtype='object')"
      ]
     },
     "execution_count": 238,
     "metadata": {},
     "output_type": "execute_result"
    }
   ],
   "source": [
    "players.columns"
   ]
  },
  {
   "cell_type": "code",
   "execution_count": 239,
   "id": "7ab48719",
   "metadata": {},
   "outputs": [],
   "source": [
    "players.drop(\"name\",axis=1,inplace=True)\n",
    "players.rename(columns={\"current_club_id\":\"club_id\",\"pretty_name\":\"name\"},inplace=True)"
   ]
  },
  {
   "cell_type": "code",
   "execution_count": 240,
   "id": "39a9c1c8",
   "metadata": {
    "scrolled": true
   },
   "outputs": [],
   "source": [
    "players=pd.merge(players[[\"player_id\",\"name\",\"date_of_birth\",\"club_id\",\"country_of_citizenship\",\"last_season\",\"market_value_in_gbp\",\"foot\",\"height_in_cm\",\"position\"]],clubs[[\"club_id\",\"name\"]],how=\"inner\",on=\"club_id\",suffixes=(\"_player\",\"_team\"))"
   ]
  },
  {
   "cell_type": "code",
   "execution_count": 241,
   "id": "2f3a040d",
   "metadata": {},
   "outputs": [
    {
     "data": {
      "text/html": [
       "<div>\n",
       "<style scoped>\n",
       "    .dataframe tbody tr th:only-of-type {\n",
       "        vertical-align: middle;\n",
       "    }\n",
       "\n",
       "    .dataframe tbody tr th {\n",
       "        vertical-align: top;\n",
       "    }\n",
       "\n",
       "    .dataframe thead th {\n",
       "        text-align: right;\n",
       "    }\n",
       "</style>\n",
       "<table border=\"1\" class=\"dataframe\">\n",
       "  <thead>\n",
       "    <tr style=\"text-align: right;\">\n",
       "      <th></th>\n",
       "      <th>player_id</th>\n",
       "      <th>name_player</th>\n",
       "      <th>date_of_birth</th>\n",
       "      <th>club_id</th>\n",
       "      <th>country_of_citizenship</th>\n",
       "      <th>last_season</th>\n",
       "      <th>market_value_in_gbp</th>\n",
       "      <th>foot</th>\n",
       "      <th>height_in_cm</th>\n",
       "      <th>position</th>\n",
       "      <th>name_team</th>\n",
       "    </tr>\n",
       "  </thead>\n",
       "  <tbody>\n",
       "    <tr>\n",
       "      <th>0</th>\n",
       "      <td>254016</td>\n",
       "      <td>Arthur Delalande</td>\n",
       "      <td>1992-05-18</td>\n",
       "      <td>855</td>\n",
       "      <td>France</td>\n",
       "      <td>2013</td>\n",
       "      <td>NaN</td>\n",
       "      <td>Right</td>\n",
       "      <td>186</td>\n",
       "      <td>Midfield</td>\n",
       "      <td>ea-guingamp</td>\n",
       "    </tr>\n",
       "    <tr>\n",
       "      <th>1</th>\n",
       "      <td>225616</td>\n",
       "      <td>Paul Babiloni</td>\n",
       "      <td>1990-01-16</td>\n",
       "      <td>855</td>\n",
       "      <td>France</td>\n",
       "      <td>2013</td>\n",
       "      <td>NaN</td>\n",
       "      <td>Right</td>\n",
       "      <td>180</td>\n",
       "      <td>Defender</td>\n",
       "      <td>ea-guingamp</td>\n",
       "    </tr>\n",
       "    <tr>\n",
       "      <th>2</th>\n",
       "      <td>45264</td>\n",
       "      <td>Thierry Argelier</td>\n",
       "      <td>1986-07-08</td>\n",
       "      <td>855</td>\n",
       "      <td>France</td>\n",
       "      <td>2013</td>\n",
       "      <td>NaN</td>\n",
       "      <td>Right</td>\n",
       "      <td>183</td>\n",
       "      <td>Defender</td>\n",
       "      <td>ea-guingamp</td>\n",
       "    </tr>\n",
       "    <tr>\n",
       "      <th>3</th>\n",
       "      <td>6274</td>\n",
       "      <td>Gregory Cerdan</td>\n",
       "      <td>1982-07-28</td>\n",
       "      <td>855</td>\n",
       "      <td>France</td>\n",
       "      <td>2013</td>\n",
       "      <td>NaN</td>\n",
       "      <td>Right</td>\n",
       "      <td>190</td>\n",
       "      <td>Defender</td>\n",
       "      <td>ea-guingamp</td>\n",
       "    </tr>\n",
       "    <tr>\n",
       "      <th>4</th>\n",
       "      <td>1613</td>\n",
       "      <td>Vivian</td>\n",
       "      <td>1982-04-05</td>\n",
       "      <td>855</td>\n",
       "      <td>Brazil</td>\n",
       "      <td>2013</td>\n",
       "      <td>NaN</td>\n",
       "      <td>NaN</td>\n",
       "      <td>0</td>\n",
       "      <td>Defender</td>\n",
       "      <td>ea-guingamp</td>\n",
       "    </tr>\n",
       "    <tr>\n",
       "      <th>...</th>\n",
       "      <td>...</td>\n",
       "      <td>...</td>\n",
       "      <td>...</td>\n",
       "      <td>...</td>\n",
       "      <td>...</td>\n",
       "      <td>...</td>\n",
       "      <td>...</td>\n",
       "      <td>...</td>\n",
       "      <td>...</td>\n",
       "      <td>...</td>\n",
       "      <td>...</td>\n",
       "    </tr>\n",
       "    <tr>\n",
       "      <th>23706</th>\n",
       "      <td>699306</td>\n",
       "      <td>Ilya Tuseev</td>\n",
       "      <td>2002-07-19</td>\n",
       "      <td>3719</td>\n",
       "      <td>Russia</td>\n",
       "      <td>2021</td>\n",
       "      <td>135000.0</td>\n",
       "      <td>Right</td>\n",
       "      <td>194</td>\n",
       "      <td>Goalkeeper</td>\n",
       "      <td>fk-khimki</td>\n",
       "    </tr>\n",
       "    <tr>\n",
       "      <th>23707</th>\n",
       "      <td>178957</td>\n",
       "      <td>Bryan Idowu</td>\n",
       "      <td>1992-05-18</td>\n",
       "      <td>3719</td>\n",
       "      <td>Nigeria</td>\n",
       "      <td>2021</td>\n",
       "      <td>1080000.0</td>\n",
       "      <td>Right</td>\n",
       "      <td>179</td>\n",
       "      <td>Defender</td>\n",
       "      <td>fk-khimki</td>\n",
       "    </tr>\n",
       "    <tr>\n",
       "      <th>23708</th>\n",
       "      <td>232093</td>\n",
       "      <td>Reziuan Mirzov</td>\n",
       "      <td>1993-06-22</td>\n",
       "      <td>3719</td>\n",
       "      <td>Russia</td>\n",
       "      <td>2021</td>\n",
       "      <td>1350000.0</td>\n",
       "      <td>Right</td>\n",
       "      <td>179</td>\n",
       "      <td>Attack</td>\n",
       "      <td>fk-khimki</td>\n",
       "    </tr>\n",
       "    <tr>\n",
       "      <th>23709</th>\n",
       "      <td>260229</td>\n",
       "      <td>Egor Danilkin</td>\n",
       "      <td>1995-08-01</td>\n",
       "      <td>3719</td>\n",
       "      <td>Russia</td>\n",
       "      <td>2021</td>\n",
       "      <td>720000.0</td>\n",
       "      <td>Right</td>\n",
       "      <td>185</td>\n",
       "      <td>Defender</td>\n",
       "      <td>fk-khimki</td>\n",
       "    </tr>\n",
       "    <tr>\n",
       "      <th>23710</th>\n",
       "      <td>395163</td>\n",
       "      <td>Butta Magomedov</td>\n",
       "      <td>1997-12-25</td>\n",
       "      <td>3719</td>\n",
       "      <td>Russia</td>\n",
       "      <td>2021</td>\n",
       "      <td>540000.0</td>\n",
       "      <td>Right</td>\n",
       "      <td>176</td>\n",
       "      <td>Attack</td>\n",
       "      <td>fk-khimki</td>\n",
       "    </tr>\n",
       "  </tbody>\n",
       "</table>\n",
       "<p>23711 rows × 11 columns</p>\n",
       "</div>"
      ],
      "text/plain": [
       "       player_id       name_player date_of_birth  club_id  \\\n",
       "0         254016  Arthur Delalande    1992-05-18      855   \n",
       "1         225616     Paul Babiloni    1990-01-16      855   \n",
       "2          45264  Thierry Argelier    1986-07-08      855   \n",
       "3           6274    Gregory Cerdan    1982-07-28      855   \n",
       "4           1613            Vivian    1982-04-05      855   \n",
       "...          ...               ...           ...      ...   \n",
       "23706     699306       Ilya Tuseev    2002-07-19     3719   \n",
       "23707     178957       Bryan Idowu    1992-05-18     3719   \n",
       "23708     232093    Reziuan Mirzov    1993-06-22     3719   \n",
       "23709     260229     Egor Danilkin    1995-08-01     3719   \n",
       "23710     395163   Butta Magomedov    1997-12-25     3719   \n",
       "\n",
       "      country_of_citizenship  last_season  market_value_in_gbp   foot  \\\n",
       "0                     France         2013                  NaN  Right   \n",
       "1                     France         2013                  NaN  Right   \n",
       "2                     France         2013                  NaN  Right   \n",
       "3                     France         2013                  NaN  Right   \n",
       "4                     Brazil         2013                  NaN    NaN   \n",
       "...                      ...          ...                  ...    ...   \n",
       "23706                 Russia         2021             135000.0  Right   \n",
       "23707                Nigeria         2021            1080000.0  Right   \n",
       "23708                 Russia         2021            1350000.0  Right   \n",
       "23709                 Russia         2021             720000.0  Right   \n",
       "23710                 Russia         2021             540000.0  Right   \n",
       "\n",
       "       height_in_cm    position    name_team  \n",
       "0               186    Midfield  ea-guingamp  \n",
       "1               180    Defender  ea-guingamp  \n",
       "2               183    Defender  ea-guingamp  \n",
       "3               190    Defender  ea-guingamp  \n",
       "4                 0    Defender  ea-guingamp  \n",
       "...             ...         ...          ...  \n",
       "23706           194  Goalkeeper    fk-khimki  \n",
       "23707           179    Defender    fk-khimki  \n",
       "23708           179      Attack    fk-khimki  \n",
       "23709           185    Defender    fk-khimki  \n",
       "23710           176      Attack    fk-khimki  \n",
       "\n",
       "[23711 rows x 11 columns]"
      ]
     },
     "execution_count": 241,
     "metadata": {},
     "output_type": "execute_result"
    }
   ],
   "source": [
    "players"
   ]
  },
  {
   "cell_type": "markdown",
   "id": "5b80671d",
   "metadata": {},
   "source": [
    "## How many greek players Paok has?"
   ]
  },
  {
   "cell_type": "code",
   "execution_count": 242,
   "id": "9223899d",
   "metadata": {
    "scrolled": true
   },
   "outputs": [
    {
     "data": {
      "text/plain": [
       "6"
      ]
     },
     "execution_count": 242,
     "metadata": {},
     "output_type": "execute_result"
    }
   ],
   "source": [
    "players[(players.name_team==\"paok-thessaloniki\".lower()) & (players.last_season==2021)].groupby(\"country_of_citizenship\")[\"name_player\"].count()[\"Greece\"]"
   ]
  },
  {
   "cell_type": "markdown",
   "id": "7122d033",
   "metadata": {},
   "source": [
    "## How many greek players Aris has?"
   ]
  },
  {
   "cell_type": "code",
   "execution_count": 243,
   "id": "2d981942",
   "metadata": {
    "scrolled": false
   },
   "outputs": [
    {
     "data": {
      "text/plain": [
       "8"
      ]
     },
     "execution_count": 243,
     "metadata": {},
     "output_type": "execute_result"
    }
   ],
   "source": [
    "players[(players.name_team==\"aris-thessaloniki\") & (players.last_season==2021)].groupby(\"country_of_citizenship\")[\"name_player\"].count()[\"Greece\"]"
   ]
  },
  {
   "cell_type": "markdown",
   "id": "f0c654b3",
   "metadata": {},
   "source": [
    "### More specifically"
   ]
  },
  {
   "cell_type": "code",
   "execution_count": 244,
   "id": "c8d9b7f7",
   "metadata": {
    "scrolled": false
   },
   "outputs": [
    {
     "data": {
      "text/plain": [
       "7739           Dimitrios Manos\n",
       "7747            Zisis Saliaris\n",
       "7751    Konstantinos Mitroglou\n",
       "7754       Christos Marmaridis\n",
       "7760        Kyriakos Aslanidis\n",
       "7764        Georgios Delizisis\n",
       "7767           Marios Siabanis\n",
       "7769      Panagiotis Sengergis\n",
       "Name: name_player, dtype: object"
      ]
     },
     "execution_count": 244,
     "metadata": {},
     "output_type": "execute_result"
    }
   ],
   "source": [
    "players[(players.name_team==\"aris-thessaloniki\") & (players.last_season==2021) & (players.country_of_citizenship==\"Greece\")].name_player"
   ]
  },
  {
   "cell_type": "code",
   "execution_count": 245,
   "id": "88ac4288",
   "metadata": {
    "scrolled": true
   },
   "outputs": [
    {
     "data": {
      "text/plain": [
       "5330         Georgios Koutsias\n",
       "5344         Lefteris Lyratzis\n",
       "5350       Giannis Michailidis\n",
       "5352    Christos Talichmanidis\n",
       "5353      Theocharis Tsingaras\n",
       "5356    Alexandros Paschalakis\n",
       "Name: name_player, dtype: object"
      ]
     },
     "execution_count": 245,
     "metadata": {},
     "output_type": "execute_result"
    }
   ],
   "source": [
    "players[(players.name_team==\"paok-thessaloniki\") & (players.last_season==2021) & (players.country_of_citizenship==\"Greece\")].name_player"
   ]
  },
  {
   "cell_type": "markdown",
   "id": "2dab9b3d",
   "metadata": {},
   "source": [
    "# Let's see what are the most represented countries in greek league in terms of players"
   ]
  },
  {
   "cell_type": "code",
   "execution_count": 246,
   "id": "00063d0c",
   "metadata": {},
   "outputs": [],
   "source": [
    "greek_teams = list(greek_league.name)"
   ]
  },
  {
   "cell_type": "code",
   "execution_count": 247,
   "id": "6d6d299e",
   "metadata": {
    "scrolled": false
   },
   "outputs": [],
   "source": [
    "players_gr = players [ players.name_team.isin(greek_teams) & (players.last_season == 2021)]"
   ]
  },
  {
   "cell_type": "code",
   "execution_count": 248,
   "id": "248cfc7c",
   "metadata": {},
   "outputs": [],
   "source": [
    "sl_countries = players_gr.groupby(\"country_of_citizenship\").count()[\"player_id\"]"
   ]
  },
  {
   "cell_type": "code",
   "execution_count": 249,
   "id": "71af4417",
   "metadata": {
    "scrolled": false
   },
   "outputs": [
    {
     "data": {
      "text/plain": [
       "<AxesSubplot:title={'center':\"Greek League's Foreigners\"}>"
      ]
     },
     "execution_count": 249,
     "metadata": {},
     "output_type": "execute_result"
    },
    {
     "data": {
      "image/png": "[encoded data removed]",
      "text/plain": [
       "<Figure size 864x360 with 1 Axes>"
      ]
     },
     "metadata": {},
     "output_type": "display_data"
    }
   ],
   "source": [
    "sl_countries = sl_countries.sort_values(ascending = False).iloc[1:10:1]\n",
    "fig = plt.figure( figsize = (12,5))\n",
    "ax = fig.gca()\n",
    "ax.set_title(\"Greek League's Foreigners\")\n",
    "sns.barplot(x = list(sl_countries.index), y = sl_countries.values,ax = ax)"
   ]
  },
  {
   "cell_type": "markdown",
   "id": "59e32bbe",
   "metadata": {},
   "source": [
    "## We can do the same with other leagues "
   ]
  },
  {
   "cell_type": "code",
   "execution_count": 250,
   "id": "3b33f450",
   "metadata": {},
   "outputs": [],
   "source": [
    "def foreigners(country,ax):\n",
    "    d={\"England\":\"GB1\",\"Spain\":\"ES1\",\"Greece\":\"GR1\",\"Germany\":\"GER1\",\"Italy\":\"IT1\",\"Turkey\":\"TU1\",\"France\":\"FR1\"}\n",
    "    countries = list(clubs[clubs.domestic_competition_id ==f\"{d[country]}\"].name.unique())\n",
    "    player_countries = players[players.name_team.isin(countries) & (players.last_season == 2021)]\n",
    "    sum_countries = player_countries.groupby(\"country_of_citizenship\").count()[\"player_id\"]\n",
    "    sum_countries = sum_countries.sort_values(ascending = False).iloc[1:10:1]\n",
    "    ax.set_title(f\"{country} League's Foreigners\")\n",
    "    sns.barplot(x = list(sum_countries.index), y = sum_countries.values,ax = ax)"
   ]
  },
  {
   "cell_type": "code",
   "execution_count": 251,
   "id": "89e5ed95",
   "metadata": {},
   "outputs": [
    {
     "data": {
      "image/png": "[encoded data removed]",
      "text/plain": [
       "<Figure size 1224x720 with 4 Axes>"
      ]
     },
     "metadata": {},
     "output_type": "display_data"
    }
   ],
   "source": [
    "fig, ax =plt.subplots(2,2,figsize=(17,10))\n",
    "for i,country in enumerate([\"England\",\"Spain\",\"Italy\",\"France\"]):\n",
    "    foreigners(country,ax[divmod(i,2)[0],divmod(i,2)[1]])"
   ]
  },
  {
   "cell_type": "markdown",
   "id": "168469d5",
   "metadata": {},
   "source": [
    "## Which team has the stadium with the most seats?"
   ]
  },
  {
   "cell_type": "code",
   "execution_count": 252,
   "id": "6de2f23c",
   "metadata": {
    "scrolled": true
   },
   "outputs": [
    {
     "data": {
      "text/html": [
       "<div>\n",
       "<style scoped>\n",
       "    .dataframe tbody tr th:only-of-type {\n",
       "        vertical-align: middle;\n",
       "    }\n",
       "\n",
       "    .dataframe tbody tr th {\n",
       "        vertical-align: top;\n",
       "    }\n",
       "\n",
       "    .dataframe thead th {\n",
       "        text-align: right;\n",
       "    }\n",
       "</style>\n",
       "<table border=\"1\" class=\"dataframe\">\n",
       "  <thead>\n",
       "    <tr style=\"text-align: right;\">\n",
       "      <th></th>\n",
       "      <th>name</th>\n",
       "      <th>stadium_seats</th>\n",
       "    </tr>\n",
       "  </thead>\n",
       "  <tbody>\n",
       "    <tr>\n",
       "      <th>221</th>\n",
       "      <td>aek-athen</td>\n",
       "      <td>69618</td>\n",
       "    </tr>\n",
       "    <tr>\n",
       "      <th>218</th>\n",
       "      <td>olympiakos-piraus</td>\n",
       "      <td>32115</td>\n",
       "    </tr>\n",
       "    <tr>\n",
       "      <th>217</th>\n",
       "      <td>paok-thessaloniki</td>\n",
       "      <td>28703</td>\n",
       "    </tr>\n",
       "    <tr>\n",
       "      <th>59</th>\n",
       "      <td>iraklis-thessaloniki</td>\n",
       "      <td>27770</td>\n",
       "    </tr>\n",
       "    <tr>\n",
       "      <th>26</th>\n",
       "      <td>gs-ergotelis</td>\n",
       "      <td>25780</td>\n",
       "    </tr>\n",
       "    <tr>\n",
       "      <th>214</th>\n",
       "      <td>aris-thessaloniki</td>\n",
       "      <td>22800</td>\n",
       "    </tr>\n",
       "    <tr>\n",
       "      <th>22</th>\n",
       "      <td>niki-volou</td>\n",
       "      <td>22700</td>\n",
       "    </tr>\n",
       "    <tr>\n",
       "      <th>209</th>\n",
       "      <td>volos-nps</td>\n",
       "      <td>22700</td>\n",
       "    </tr>\n",
       "    <tr>\n",
       "      <th>215</th>\n",
       "      <td>panathinaikos-athen</td>\n",
       "      <td>15000</td>\n",
       "    </tr>\n",
       "    <tr>\n",
       "      <th>175</th>\n",
       "      <td>apollon-smyrnis</td>\n",
       "      <td>14200</td>\n",
       "    </tr>\n",
       "    <tr>\n",
       "      <th>141</th>\n",
       "      <td>ae-larisa</td>\n",
       "      <td>13108</td>\n",
       "    </tr>\n",
       "    <tr>\n",
       "      <th>109</th>\n",
       "      <td>panionios-athen</td>\n",
       "      <td>11700</td>\n",
       "    </tr>\n",
       "    <tr>\n",
       "      <th>213</th>\n",
       "      <td>ofi-kreta</td>\n",
       "      <td>9088</td>\n",
       "    </tr>\n",
       "    <tr>\n",
       "      <th>263</th>\n",
       "      <td>atromitos-athen</td>\n",
       "      <td>9050</td>\n",
       "    </tr>\n",
       "    <tr>\n",
       "      <th>212</th>\n",
       "      <td>pas-giannina</td>\n",
       "      <td>7652</td>\n",
       "    </tr>\n",
       "    <tr>\n",
       "      <th>211</th>\n",
       "      <td>asteras-tripolis</td>\n",
       "      <td>7423</td>\n",
       "    </tr>\n",
       "    <tr>\n",
       "      <th>113</th>\n",
       "      <td>ao-xanthi</td>\n",
       "      <td>7361</td>\n",
       "    </tr>\n",
       "    <tr>\n",
       "      <th>56</th>\n",
       "      <td>veria-nps</td>\n",
       "      <td>6350</td>\n",
       "    </tr>\n",
       "    <tr>\n",
       "      <th>92</th>\n",
       "      <td>apo-levadiakos</td>\n",
       "      <td>5915</td>\n",
       "    </tr>\n",
       "    <tr>\n",
       "      <th>43</th>\n",
       "      <td>panthrakikos-komotini</td>\n",
       "      <td>5601</td>\n",
       "    </tr>\n",
       "    <tr>\n",
       "      <th>170</th>\n",
       "      <td>pas-lamia-1964</td>\n",
       "      <td>5500</td>\n",
       "    </tr>\n",
       "    <tr>\n",
       "      <th>171</th>\n",
       "      <td>ionikos-nikeas</td>\n",
       "      <td>5500</td>\n",
       "    </tr>\n",
       "    <tr>\n",
       "      <th>210</th>\n",
       "      <td>panetolikos-gfs</td>\n",
       "      <td>5230</td>\n",
       "    </tr>\n",
       "    <tr>\n",
       "      <th>41</th>\n",
       "      <td>ael-kalloni</td>\n",
       "      <td>4000</td>\n",
       "    </tr>\n",
       "    <tr>\n",
       "      <th>77</th>\n",
       "      <td>ao-platanias</td>\n",
       "      <td>3700</td>\n",
       "    </tr>\n",
       "    <tr>\n",
       "      <th>78</th>\n",
       "      <td>aok-kerkyra</td>\n",
       "      <td>3000</td>\n",
       "    </tr>\n",
       "  </tbody>\n",
       "</table>\n",
       "</div>"
      ],
      "text/plain": [
       "                      name  stadium_seats\n",
       "221              aek-athen          69618\n",
       "218      olympiakos-piraus          32115\n",
       "217      paok-thessaloniki          28703\n",
       "59    iraklis-thessaloniki          27770\n",
       "26            gs-ergotelis          25780\n",
       "214      aris-thessaloniki          22800\n",
       "22              niki-volou          22700\n",
       "209              volos-nps          22700\n",
       "215    panathinaikos-athen          15000\n",
       "175        apollon-smyrnis          14200\n",
       "141              ae-larisa          13108\n",
       "109        panionios-athen          11700\n",
       "213              ofi-kreta           9088\n",
       "263        atromitos-athen           9050\n",
       "212           pas-giannina           7652\n",
       "211       asteras-tripolis           7423\n",
       "113              ao-xanthi           7361\n",
       "56               veria-nps           6350\n",
       "92          apo-levadiakos           5915\n",
       "43   panthrakikos-komotini           5601\n",
       "170         pas-lamia-1964           5500\n",
       "171         ionikos-nikeas           5500\n",
       "210        panetolikos-gfs           5230\n",
       "41             ael-kalloni           4000\n",
       "77            ao-platanias           3700\n",
       "78             aok-kerkyra           3000"
      ]
     },
     "execution_count": 252,
     "metadata": {},
     "output_type": "execute_result"
    }
   ],
   "source": [
    "greek_league[[\"name\",\"stadium_seats\"]].sort_values(by=\"stadium_seats\",ascending=False)"
   ]
  },
  {
   "cell_type": "markdown",
   "id": "a11e0823",
   "metadata": {},
   "source": [
    "# Which team has the best offense (more goals scored)? "
   ]
  },
  {
   "cell_type": "code",
   "execution_count": 253,
   "id": "605c5269",
   "metadata": {},
   "outputs": [
    {
     "data": {
      "text/plain": [
       "Index(['game_id', 'competition_code', 'season', 'round', 'date',\n",
       "       'home_club_id', 'away_club_id', 'home_club_goals', 'away_club_goals',\n",
       "       'home_club_position', 'away_club_position', 'stadium', 'attendance',\n",
       "       'referee', 'url'],\n",
       "      dtype='object')"
      ]
     },
     "execution_count": 253,
     "metadata": {},
     "output_type": "execute_result"
    }
   ],
   "source": [
    "games = pd.read_csv(\"datasets\\\\football\\\\games.csv\")\n",
    "games.columns"
   ]
  },
  {
   "cell_type": "code",
   "execution_count": 254,
   "id": "3f80a766",
   "metadata": {},
   "outputs": [
    {
     "data": {
      "text/html": [
       "<div>\n",
       "<style scoped>\n",
       "    .dataframe tbody tr th:only-of-type {\n",
       "        vertical-align: middle;\n",
       "    }\n",
       "\n",
       "    .dataframe tbody tr th {\n",
       "        vertical-align: top;\n",
       "    }\n",
       "\n",
       "    .dataframe thead th {\n",
       "        text-align: right;\n",
       "    }\n",
       "</style>\n",
       "<table border=\"1\" class=\"dataframe\">\n",
       "  <thead>\n",
       "    <tr style=\"text-align: right;\">\n",
       "      <th></th>\n",
       "      <th>game_id</th>\n",
       "      <th>competition_code</th>\n",
       "      <th>season</th>\n",
       "      <th>round</th>\n",
       "      <th>date</th>\n",
       "      <th>home_club_id</th>\n",
       "      <th>away_club_id</th>\n",
       "      <th>home_club_goals</th>\n",
       "      <th>away_club_goals</th>\n",
       "    </tr>\n",
       "  </thead>\n",
       "  <tbody>\n",
       "    <tr>\n",
       "      <th>50415</th>\n",
       "      <td>3575344</td>\n",
       "      <td>DFL</td>\n",
       "      <td>2021</td>\n",
       "      <td>Final</td>\n",
       "      <td>2021-08-17</td>\n",
       "      <td>16</td>\n",
       "      <td>27</td>\n",
       "      <td>1</td>\n",
       "      <td>3</td>\n",
       "    </tr>\n",
       "    <tr>\n",
       "      <th>50417</th>\n",
       "      <td>3598319</td>\n",
       "      <td>BE1</td>\n",
       "      <td>2021</td>\n",
       "      <td>34. Matchday</td>\n",
       "      <td>2022-04-10</td>\n",
       "      <td>157</td>\n",
       "      <td>2727</td>\n",
       "      <td>5</td>\n",
       "      <td>0</td>\n",
       "    </tr>\n",
       "    <tr>\n",
       "      <th>50418</th>\n",
       "      <td>3730819</td>\n",
       "      <td>SUC</td>\n",
       "      <td>2021</td>\n",
       "      <td>Final</td>\n",
       "      <td>2022-01-16</td>\n",
       "      <td>621</td>\n",
       "      <td>418</td>\n",
       "      <td>0</td>\n",
       "      <td>2</td>\n",
       "    </tr>\n",
       "    <tr>\n",
       "      <th>50419</th>\n",
       "      <td>3597880</td>\n",
       "      <td>NL1</td>\n",
       "      <td>2021</td>\n",
       "      <td>12. Matchday</td>\n",
       "      <td>2021-11-06</td>\n",
       "      <td>467</td>\n",
       "      <td>306</td>\n",
       "      <td>1</td>\n",
       "      <td>1</td>\n",
       "    </tr>\n",
       "    <tr>\n",
       "      <th>50420</th>\n",
       "      <td>3578075</td>\n",
       "      <td>GBCS</td>\n",
       "      <td>2021</td>\n",
       "      <td>Final</td>\n",
       "      <td>2021-08-07</td>\n",
       "      <td>1003</td>\n",
       "      <td>281</td>\n",
       "      <td>1</td>\n",
       "      <td>0</td>\n",
       "    </tr>\n",
       "  </tbody>\n",
       "</table>\n",
       "</div>"
      ],
      "text/plain": [
       "       game_id competition_code  season         round        date  \\\n",
       "50415  3575344              DFL    2021         Final  2021-08-17   \n",
       "50417  3598319              BE1    2021  34. Matchday  2022-04-10   \n",
       "50418  3730819              SUC    2021         Final  2022-01-16   \n",
       "50419  3597880              NL1    2021  12. Matchday  2021-11-06   \n",
       "50420  3578075             GBCS    2021         Final  2021-08-07   \n",
       "\n",
       "       home_club_id  away_club_id  home_club_goals  away_club_goals  \n",
       "50415            16            27                1                3  \n",
       "50417           157          2727                5                0  \n",
       "50418           621           418                0                2  \n",
       "50419           467           306                1                1  \n",
       "50420          1003           281                1                0  "
      ]
     },
     "execution_count": 254,
     "metadata": {},
     "output_type": "execute_result"
    }
   ],
   "source": [
    "games = games[games.season == 2021].drop([\"home_club_position\", \"away_club_position\", \"stadium\", \"attendance\",\"referee\", \"url\"], axis=1)\n",
    "games.head()"
   ]
  },
  {
   "cell_type": "code",
   "execution_count": 255,
   "id": "98daadc7",
   "metadata": {},
   "outputs": [],
   "source": [
    "games = pd.merge(games,clubs[[\"club_id\",\"name\"]],how = \"inner\",left_on = \"home_club_id\",right_on = \"club_id\")\n",
    "games = pd.merge(games,clubs[[\"club_id\",\"name\"]], how = \"inner\", left_on = \"away_club_id\", right_on = \"club_id\")"
   ]
  },
  {
   "cell_type": "code",
   "execution_count": 256,
   "id": "1a59b159",
   "metadata": {},
   "outputs": [],
   "source": [
    "games = games.drop([\"club_id_x\",\"club_id_y\",\"home_club_id\",\"away_club_id\"],axis=1)\n",
    "games.rename(columns={\"name_x\":\"home\",\"name_y\":\"away\"},inplace=True)"
   ]
  },
  {
   "cell_type": "code",
   "execution_count": 257,
   "id": "e471007f",
   "metadata": {},
   "outputs": [],
   "source": [
    "greek_league_games = games[games.competition_code==\"GR1\"]"
   ]
  },
  {
   "cell_type": "code",
   "execution_count": 258,
   "id": "56af0b66",
   "metadata": {},
   "outputs": [
    {
     "data": {
      "text/plain": [
       "2623            ofi-kreta\n",
       "2624       ionikos-nikeas\n",
       "2625            volos-nps\n",
       "2626    aris-thessaloniki\n",
       "2627      apollon-smyrnis\n",
       "              ...        \n",
       "4400     asteras-tripolis\n",
       "4401       pas-lamia-1964\n",
       "4402    paok-thessaloniki\n",
       "4403         pas-giannina\n",
       "4404            aek-athen\n",
       "Name: home, Length: 182, dtype: object"
      ]
     },
     "execution_count": 258,
     "metadata": {},
     "output_type": "execute_result"
    }
   ],
   "source": [
    "greek_league_games.home"
   ]
  },
  {
   "cell_type": "markdown",
   "id": "329d8d36",
   "metadata": {},
   "source": [
    "### we create a function to extract each teams total goals in the season "
   ]
  },
  {
   "cell_type": "code",
   "execution_count": 259,
   "id": "b88fac91",
   "metadata": {},
   "outputs": [],
   "source": [
    "def goals(team):\n",
    "    result = lambda x,y,z : y if x == team else z\n",
    "    temp = greek_league_games [(greek_league_games.home == team) | (greek_league_games.away == team)]\n",
    "    temp[\"goals\"] = temp[[\"home\",\"away\",\"home_club_goals\",\"away_club_goals\"]].apply(lambda x: result(x.home,x.home_club_goals,x.away_club_goals),axis=1)\n",
    "    return temp.goals.sum()"
   ]
  },
  {
   "cell_type": "code",
   "execution_count": 260,
   "id": "5475d4ed",
   "metadata": {},
   "outputs": [],
   "source": [
    "teams = pd.Series(greek_league_games.home.unique())"
   ]
  },
  {
   "cell_type": "code",
   "execution_count": 261,
   "id": "39bab010",
   "metadata": {
    "scrolled": true
   },
   "outputs": [
    {
     "name": "stderr",
     "output_type": "stream",
     "text": [
      "C:\\Users\\aris\\AppData\\Roaming\\Python\\Python37\\site-packages\\ipykernel_launcher.py:4: SettingWithCopyWarning: \n",
      "A value is trying to be set on a copy of a slice from a DataFrame.\n",
      "Try using .loc[row_indexer,col_indexer] = value instead\n",
      "\n",
      "See the caveats in the documentation: https://pandas.pydata.org/pandas-docs/stable/user_guide/indexing.html#returning-a-view-versus-a-copy\n",
      "  after removing the cwd from sys.path.\n"
     ]
    }
   ],
   "source": [
    "teams = pd.Series(greek_league_games.home.unique())\n",
    "goals = teams.apply(goals)"
   ]
  },
  {
   "cell_type": "code",
   "execution_count": 262,
   "id": "e817d094",
   "metadata": {},
   "outputs": [
    {
     "data": {
      "text/html": [
       "<div>\n",
       "<style scoped>\n",
       "    .dataframe tbody tr th:only-of-type {\n",
       "        vertical-align: middle;\n",
       "    }\n",
       "\n",
       "    .dataframe tbody tr th {\n",
       "        vertical-align: top;\n",
       "    }\n",
       "\n",
       "    .dataframe thead th {\n",
       "        text-align: right;\n",
       "    }\n",
       "</style>\n",
       "<table border=\"1\" class=\"dataframe\">\n",
       "  <thead>\n",
       "    <tr style=\"text-align: right;\">\n",
       "      <th></th>\n",
       "      <th>Goals</th>\n",
       "    </tr>\n",
       "    <tr>\n",
       "      <th>Team</th>\n",
       "      <th></th>\n",
       "    </tr>\n",
       "  </thead>\n",
       "  <tbody>\n",
       "    <tr>\n",
       "      <th>paok-thessaloniki</th>\n",
       "      <td>50</td>\n",
       "    </tr>\n",
       "    <tr>\n",
       "      <th>olympiakos-piraus</th>\n",
       "      <td>47</td>\n",
       "    </tr>\n",
       "    <tr>\n",
       "      <th>aek-athen</th>\n",
       "      <td>42</td>\n",
       "    </tr>\n",
       "    <tr>\n",
       "      <th>panathinaikos-athen</th>\n",
       "      <td>41</td>\n",
       "    </tr>\n",
       "    <tr>\n",
       "      <th>volos-nps</th>\n",
       "      <td>35</td>\n",
       "    </tr>\n",
       "    <tr>\n",
       "      <th>ofi-kreta</th>\n",
       "      <td>33</td>\n",
       "    </tr>\n",
       "    <tr>\n",
       "      <th>aris-thessaloniki</th>\n",
       "      <td>28</td>\n",
       "    </tr>\n",
       "    <tr>\n",
       "      <th>pas-giannina</th>\n",
       "      <td>28</td>\n",
       "    </tr>\n",
       "    <tr>\n",
       "      <th>atromitos-athen</th>\n",
       "      <td>27</td>\n",
       "    </tr>\n",
       "    <tr>\n",
       "      <th>panetolikos-gfs</th>\n",
       "      <td>27</td>\n",
       "    </tr>\n",
       "    <tr>\n",
       "      <th>asteras-tripolis</th>\n",
       "      <td>27</td>\n",
       "    </tr>\n",
       "    <tr>\n",
       "      <th>ionikos-nikeas</th>\n",
       "      <td>26</td>\n",
       "    </tr>\n",
       "    <tr>\n",
       "      <th>pas-lamia-1964</th>\n",
       "      <td>19</td>\n",
       "    </tr>\n",
       "    <tr>\n",
       "      <th>apollon-smyrnis</th>\n",
       "      <td>9</td>\n",
       "    </tr>\n",
       "  </tbody>\n",
       "</table>\n",
       "</div>"
      ],
      "text/plain": [
       "                     Goals\n",
       "Team                      \n",
       "paok-thessaloniki       50\n",
       "olympiakos-piraus       47\n",
       "aek-athen               42\n",
       "panathinaikos-athen     41\n",
       "volos-nps               35\n",
       "ofi-kreta               33\n",
       "aris-thessaloniki       28\n",
       "pas-giannina            28\n",
       "atromitos-athen         27\n",
       "panetolikos-gfs         27\n",
       "asteras-tripolis        27\n",
       "ionikos-nikeas          26\n",
       "pas-lamia-1964          19\n",
       "apollon-smyrnis          9"
      ]
     },
     "execution_count": 262,
     "metadata": {},
     "output_type": "execute_result"
    }
   ],
   "source": [
    "board = pd.DataFrame({\"Team\":teams,\"Goals\":goals}).set_index(\"Team\").sort_values(by=\"Goals\", ascending = False)\n",
    "board"
   ]
  },
  {
   "cell_type": "markdown",
   "id": "3651e7e1",
   "metadata": {},
   "source": [
    "## Now let's examine the height distribution of players"
   ]
  },
  {
   "cell_type": "code",
   "execution_count": 263,
   "id": "162d8c8d",
   "metadata": {},
   "outputs": [],
   "source": [
    "players=players[players.last_season==2021]"
   ]
  },
  {
   "cell_type": "code",
   "execution_count": 264,
   "id": "b46ad7f5",
   "metadata": {},
   "outputs": [
    {
     "data": {
      "text/plain": [
       "<AxesSubplot:xlabel='height_in_cm', ylabel='Count'>"
      ]
     },
     "execution_count": 264,
     "metadata": {},
     "output_type": "execute_result"
    },
    {
     "data": {
      "image/png": "[encoded data removed]",
      "text/plain": [
       "<Figure size 432x288 with 1 Axes>"
      ]
     },
     "metadata": {},
     "output_type": "display_data"
    }
   ],
   "source": [
    "sns.histplot(players.height_in_cm)"
   ]
  },
  {
   "cell_type": "markdown",
   "id": "5068960b",
   "metadata": {},
   "source": [
    "### Now apparently the 0 height players are those with the unknown height so let's drop those "
   ]
  },
  {
   "cell_type": "code",
   "execution_count": 265,
   "id": "aff51daa",
   "metadata": {},
   "outputs": [],
   "source": [
    "players=players[~(players.height_in_cm==0)]"
   ]
  },
  {
   "cell_type": "code",
   "execution_count": 266,
   "id": "2820e8b0",
   "metadata": {},
   "outputs": [
    {
     "data": {
      "text/plain": [
       "<AxesSubplot:xlabel='height_in_cm', ylabel='Count'>"
      ]
     },
     "execution_count": 266,
     "metadata": {},
     "output_type": "execute_result"
    },
    {
     "data": {
      "image/png": "[encoded data removed]",
      "text/plain": [
       "<Figure size 432x288 with 1 Axes>"
      ]
     },
     "metadata": {},
     "output_type": "display_data"
    }
   ],
   "source": [
    "sns.histplot(players.height_in_cm,color=\"blue\")"
   ]
  },
  {
   "cell_type": "code",
   "execution_count": 267,
   "id": "f4a15ee7",
   "metadata": {},
   "outputs": [
    {
     "data": {
      "text/plain": [
       "count    6395.000000\n",
       "mean      182.644097\n",
       "std         6.819125\n",
       "min       160.000000\n",
       "25%       178.000000\n",
       "50%       183.000000\n",
       "75%       188.000000\n",
       "max       204.000000\n",
       "Name: height_in_cm, dtype: float64"
      ]
     },
     "execution_count": 267,
     "metadata": {},
     "output_type": "execute_result"
    }
   ],
   "source": [
    "players.height_in_cm.describe()"
   ]
  },
  {
   "cell_type": "markdown",
   "id": "5175bbf9",
   "metadata": {},
   "source": [
    "## So my height is 166 in cm so i am curious to see how many football players have the same height as me (+-2)"
   ]
  },
  {
   "cell_type": "code",
   "execution_count": 268,
   "id": "f27d0b3f",
   "metadata": {
    "scrolled": true
   },
   "outputs": [
    {
     "name": "stdout",
     "output_type": "stream",
     "text": [
      "total = 1177, percentage = 0.01673182173573104\n"
     ]
    }
   ],
   "source": [
    "print(f'total = {players[(164<=players.height_in_cm) & (players.height_in_cm<=168)].size}, percentage = {players[(164<=players.height_in_cm) & (players.height_in_cm<=168)].size/(players.size)}') "
   ]
  },
  {
   "cell_type": "markdown",
   "id": "8fea9698",
   "metadata": {},
   "source": [
    "# Are left footed players more valuable than the right footed ones?"
   ]
  },
  {
   "cell_type": "code",
   "execution_count": 269,
   "id": "41cbbd01",
   "metadata": {},
   "outputs": [],
   "source": [
    "left_footed = players[players.foot == \"Left\"]\n",
    "right_footed = players[players.foot == \"Right\"]"
   ]
  },
  {
   "cell_type": "markdown",
   "id": "44143028",
   "metadata": {},
   "source": [
    "### better to use the median to make the comparison since we have many outliers"
   ]
  },
  {
   "cell_type": "code",
   "execution_count": 270,
   "id": "2cf5e751",
   "metadata": {},
   "outputs": [],
   "source": [
    "left_val = left_footed[\"market_value_in_gbp\"].median()"
   ]
  },
  {
   "cell_type": "code",
   "execution_count": 271,
   "id": "93643c07",
   "metadata": {},
   "outputs": [],
   "source": [
    "right_val = right_footed[\"market_value_in_gbp\"].median()"
   ]
  },
  {
   "cell_type": "markdown",
   "id": "7ab1c686",
   "metadata": {},
   "source": [
    "### Indeed"
   ]
  },
  {
   "cell_type": "code",
   "execution_count": 272,
   "id": "c35fbbb8",
   "metadata": {
    "scrolled": false
   },
   "outputs": [
    {
     "name": "stdout",
     "output_type": "stream",
     "text": [
      "270000.0\n"
     ]
    }
   ],
   "source": [
    "print(left_val - right_val)"
   ]
  },
  {
   "cell_type": "code",
   "execution_count": 273,
   "id": "9f6e4e1d",
   "metadata": {},
   "outputs": [
    {
     "data": {
      "text/plain": [
       "Index(['player_id', 'name_player', 'date_of_birth', 'club_id',\n",
       "       'country_of_citizenship', 'last_season', 'market_value_in_gbp', 'foot',\n",
       "       'height_in_cm', 'position', 'name_team'],\n",
       "      dtype='object')"
      ]
     },
     "execution_count": 273,
     "metadata": {},
     "output_type": "execute_result"
    }
   ],
   "source": [
    "players.columns"
   ]
  },
  {
   "cell_type": "code",
   "execution_count": 274,
   "id": "c8c2eb98",
   "metadata": {},
   "outputs": [
    {
     "data": {
      "text/html": [
       "<div>\n",
       "<style scoped>\n",
       "    .dataframe tbody tr th:only-of-type {\n",
       "        vertical-align: middle;\n",
       "    }\n",
       "\n",
       "    .dataframe tbody tr th {\n",
       "        vertical-align: top;\n",
       "    }\n",
       "\n",
       "    .dataframe thead th {\n",
       "        text-align: right;\n",
       "    }\n",
       "</style>\n",
       "<table border=\"1\" class=\"dataframe\">\n",
       "  <thead>\n",
       "    <tr style=\"text-align: right;\">\n",
       "      <th></th>\n",
       "      <th>height_in_cm</th>\n",
       "      <th>market_value_in_gbp</th>\n",
       "    </tr>\n",
       "    <tr>\n",
       "      <th>position</th>\n",
       "      <th></th>\n",
       "      <th></th>\n",
       "    </tr>\n",
       "  </thead>\n",
       "  <tbody>\n",
       "    <tr>\n",
       "      <th>Attack</th>\n",
       "      <td>180.094062</td>\n",
       "      <td>1350000.0</td>\n",
       "    </tr>\n",
       "    <tr>\n",
       "      <th>Midfield</th>\n",
       "      <td>180.679598</td>\n",
       "      <td>1350000.0</td>\n",
       "    </tr>\n",
       "    <tr>\n",
       "      <th>Defender</th>\n",
       "      <td>183.703271</td>\n",
       "      <td>1080000.0</td>\n",
       "    </tr>\n",
       "    <tr>\n",
       "      <th>Goalkeeper</th>\n",
       "      <td>190.343008</td>\n",
       "      <td>360000.0</td>\n",
       "    </tr>\n",
       "  </tbody>\n",
       "</table>\n",
       "</div>"
      ],
      "text/plain": [
       "            height_in_cm  market_value_in_gbp\n",
       "position                                     \n",
       "Attack        180.094062            1350000.0\n",
       "Midfield      180.679598            1350000.0\n",
       "Defender      183.703271            1080000.0\n",
       "Goalkeeper    190.343008             360000.0"
      ]
     },
     "execution_count": 274,
     "metadata": {},
     "output_type": "execute_result"
    }
   ],
   "source": [
    "players.groupby(\"position\").aggregate({\"height_in_cm\":\"mean\",\"market_value_in_gbp\":\"median\",\"market_value_in_gbp\":\"median\"}).sort_values(by =\"market_value_in_gbp\", ascending = False)"
   ]
  },
  {
   "cell_type": "markdown",
   "id": "9340432a",
   "metadata": {},
   "source": [
    "### We can see that height for each role is approximately the same (1.80) except for the goalkeeper.\n",
    "### Also, the market value for attack and midfield players are the same but for it's less for the defenders and a lot less for the goalkeepers."
   ]
  },
  {
   "cell_type": "code",
   "execution_count": 275,
   "id": "1078d1c5",
   "metadata": {},
   "outputs": [],
   "source": [
    "players.dropna(subset=[\"market_value_in_gbp\"],inplace=True)"
   ]
  },
  {
   "cell_type": "markdown",
   "id": "4cc80585",
   "metadata": {},
   "source": [
    "# Now let's examine  the correlation between the market value and the country of citizenship"
   ]
  },
  {
   "cell_type": "code",
   "execution_count": 276,
   "id": "89990f9a",
   "metadata": {},
   "outputs": [
    {
     "data": {
      "text/html": [
       "<div>\n",
       "<style scoped>\n",
       "    .dataframe tbody tr th:only-of-type {\n",
       "        vertical-align: middle;\n",
       "    }\n",
       "\n",
       "    .dataframe tbody tr th {\n",
       "        vertical-align: top;\n",
       "    }\n",
       "\n",
       "    .dataframe thead th {\n",
       "        text-align: right;\n",
       "    }\n",
       "</style>\n",
       "<table border=\"1\" class=\"dataframe\">\n",
       "  <thead>\n",
       "    <tr style=\"text-align: right;\">\n",
       "      <th></th>\n",
       "      <th>market_value_in_gbp</th>\n",
       "    </tr>\n",
       "    <tr>\n",
       "      <th>country_of_citizenship</th>\n",
       "      <th></th>\n",
       "    </tr>\n",
       "  </thead>\n",
       "  <tbody>\n",
       "    <tr>\n",
       "      <th>Libya</th>\n",
       "      <td>10800000.0</td>\n",
       "    </tr>\n",
       "    <tr>\n",
       "      <th>Central African Republic</th>\n",
       "      <td>9405000.0</td>\n",
       "    </tr>\n",
       "    <tr>\n",
       "      <th>Jamaica</th>\n",
       "      <td>7875000.0</td>\n",
       "    </tr>\n",
       "    <tr>\n",
       "      <th>Zimbabwe</th>\n",
       "      <td>5400000.0</td>\n",
       "    </tr>\n",
       "    <tr>\n",
       "      <th>Egypt</th>\n",
       "      <td>5400000.0</td>\n",
       "    </tr>\n",
       "    <tr>\n",
       "      <th>Dominican Republic</th>\n",
       "      <td>5400000.0</td>\n",
       "    </tr>\n",
       "    <tr>\n",
       "      <th>Korea, South</th>\n",
       "      <td>5400000.0</td>\n",
       "    </tr>\n",
       "    <tr>\n",
       "      <th>Paraguay</th>\n",
       "      <td>4500000.0</td>\n",
       "    </tr>\n",
       "    <tr>\n",
       "      <th>Kenya</th>\n",
       "      <td>4050000.0</td>\n",
       "    </tr>\n",
       "    <tr>\n",
       "      <th>Philippines</th>\n",
       "      <td>4050000.0</td>\n",
       "    </tr>\n",
       "    <tr>\n",
       "      <th>Mexico</th>\n",
       "      <td>3600000.0</td>\n",
       "    </tr>\n",
       "    <tr>\n",
       "      <th>Trinidad and Tobago</th>\n",
       "      <td>3600000.0</td>\n",
       "    </tr>\n",
       "    <tr>\n",
       "      <th>Uruguay</th>\n",
       "      <td>3150000.0</td>\n",
       "    </tr>\n",
       "    <tr>\n",
       "      <th>Kosovo</th>\n",
       "      <td>2970000.0</td>\n",
       "    </tr>\n",
       "    <tr>\n",
       "      <th>Zambia</th>\n",
       "      <td>2925000.0</td>\n",
       "    </tr>\n",
       "    <tr>\n",
       "      <th>Colombia</th>\n",
       "      <td>2925000.0</td>\n",
       "    </tr>\n",
       "    <tr>\n",
       "      <th>Poland</th>\n",
       "      <td>2700000.0</td>\n",
       "    </tr>\n",
       "    <tr>\n",
       "      <th>Argentina</th>\n",
       "      <td>2700000.0</td>\n",
       "    </tr>\n",
       "    <tr>\n",
       "      <th>England</th>\n",
       "      <td>2700000.0</td>\n",
       "    </tr>\n",
       "    <tr>\n",
       "      <th>Croatia</th>\n",
       "      <td>2700000.0</td>\n",
       "    </tr>\n",
       "  </tbody>\n",
       "</table>\n",
       "</div>"
      ],
      "text/plain": [
       "                          market_value_in_gbp\n",
       "country_of_citizenship                       \n",
       "Libya                              10800000.0\n",
       "Central African Republic            9405000.0\n",
       "Jamaica                             7875000.0\n",
       "Zimbabwe                            5400000.0\n",
       "Egypt                               5400000.0\n",
       "Dominican Republic                  5400000.0\n",
       "Korea, South                        5400000.0\n",
       "Paraguay                            4500000.0\n",
       "Kenya                               4050000.0\n",
       "Philippines                         4050000.0\n",
       "Mexico                              3600000.0\n",
       "Trinidad and Tobago                 3600000.0\n",
       "Uruguay                             3150000.0\n",
       "Kosovo                              2970000.0\n",
       "Zambia                              2925000.0\n",
       "Colombia                            2925000.0\n",
       "Poland                              2700000.0\n",
       "Argentina                           2700000.0\n",
       "England                             2700000.0\n",
       "Croatia                             2700000.0"
      ]
     },
     "execution_count": 276,
     "metadata": {},
     "output_type": "execute_result"
    }
   ],
   "source": [
    "players.groupby(\"country_of_citizenship\").aggregate({\"market_value_in_gbp\":\"median\"}).sort_values(by = \"market_value_in_gbp\", ascending = False).iloc[:20]"
   ]
  },
  {
   "cell_type": "markdown",
   "id": "b1aeb6c5",
   "metadata": {},
   "source": [
    "## Huh ? That's weird, are Libyan players valued so high ? I don't know any football player from Libya..."
   ]
  },
  {
   "cell_type": "code",
   "execution_count": 277,
   "id": "12daaa0f",
   "metadata": {},
   "outputs": [
    {
     "data": {
      "text/plain": [
       "1"
      ]
     },
     "execution_count": 277,
     "metadata": {},
     "output_type": "execute_result"
    }
   ],
   "source": [
    "np.sum(players.country_of_citizenship==\"Libya\")"
   ]
  },
  {
   "cell_type": "markdown",
   "id": "0e98e386",
   "metadata": {},
   "source": [
    "## ... that is because there is only one player in the dataset. So let's hold the most 30 represented countries."
   ]
  },
  {
   "cell_type": "code",
   "execution_count": 278,
   "id": "a15c73dc",
   "metadata": {},
   "outputs": [
    {
     "data": {
      "text/plain": [
       "['France',\n",
       " 'Spain',\n",
       " 'Netherlands',\n",
       " 'Ukraine',\n",
       " 'Germany',\n",
       " 'Turkey',\n",
       " 'Russia',\n",
       " 'Brazil',\n",
       " 'Portugal',\n",
       " 'England',\n",
       " 'Belgium',\n",
       " 'Italy',\n",
       " 'Denmark',\n",
       " 'Greece',\n",
       " 'Scotland',\n",
       " 'Argentina',\n",
       " 'Sweden',\n",
       " 'Serbia',\n",
       " 'Nigeria',\n",
       " 'Senegal',\n",
       " \"Cote d'Ivoire\",\n",
       " 'Croatia',\n",
       " 'Morocco',\n",
       " 'Ghana',\n",
       " 'Norway',\n",
       " 'Colombia',\n",
       " 'Poland',\n",
       " 'United States',\n",
       " 'Algeria',\n",
       " 'Switzerland']"
      ]
     },
     "execution_count": 278,
     "metadata": {},
     "output_type": "execute_result"
    }
   ],
   "source": [
    "countries30 = list(players.country_of_citizenship.value_counts().iloc[:30].index)\n",
    "countries30"
   ]
  },
  {
   "cell_type": "code",
   "execution_count": 279,
   "id": "fa2762a0",
   "metadata": {},
   "outputs": [
    {
     "data": {
      "text/html": [
       "<div>\n",
       "<style scoped>\n",
       "    .dataframe tbody tr th:only-of-type {\n",
       "        vertical-align: middle;\n",
       "    }\n",
       "\n",
       "    .dataframe tbody tr th {\n",
       "        vertical-align: top;\n",
       "    }\n",
       "\n",
       "    .dataframe thead th {\n",
       "        text-align: right;\n",
       "    }\n",
       "</style>\n",
       "<table border=\"1\" class=\"dataframe\">\n",
       "  <thead>\n",
       "    <tr style=\"text-align: right;\">\n",
       "      <th></th>\n",
       "      <th>mean</th>\n",
       "      <th>median</th>\n",
       "    </tr>\n",
       "    <tr>\n",
       "      <th>country_of_citizenship</th>\n",
       "      <th></th>\n",
       "      <th></th>\n",
       "    </tr>\n",
       "  </thead>\n",
       "  <tbody>\n",
       "    <tr>\n",
       "      <th>England</th>\n",
       "      <td>1.504366e+07</td>\n",
       "      <td>9000000.0</td>\n",
       "    </tr>\n",
       "    <tr>\n",
       "      <th>Argentina</th>\n",
       "      <td>1.304182e+07</td>\n",
       "      <td>9900000.0</td>\n",
       "    </tr>\n",
       "    <tr>\n",
       "      <th>Brazil</th>\n",
       "      <td>1.177951e+07</td>\n",
       "      <td>5400000.0</td>\n",
       "    </tr>\n",
       "    <tr>\n",
       "      <th>Portugal</th>\n",
       "      <td>1.134662e+07</td>\n",
       "      <td>4500000.0</td>\n",
       "    </tr>\n",
       "    <tr>\n",
       "      <th>France</th>\n",
       "      <td>1.076324e+07</td>\n",
       "      <td>5400000.0</td>\n",
       "    </tr>\n",
       "    <tr>\n",
       "      <th>Scotland</th>\n",
       "      <td>1.009577e+07</td>\n",
       "      <td>5400000.0</td>\n",
       "    </tr>\n",
       "    <tr>\n",
       "      <th>Colombia</th>\n",
       "      <td>1.002706e+07</td>\n",
       "      <td>5850000.0</td>\n",
       "    </tr>\n",
       "    <tr>\n",
       "      <th>Italy</th>\n",
       "      <td>8.966038e+06</td>\n",
       "      <td>4500000.0</td>\n",
       "    </tr>\n",
       "    <tr>\n",
       "      <th>Spain</th>\n",
       "      <td>8.922040e+06</td>\n",
       "      <td>4500000.0</td>\n",
       "    </tr>\n",
       "    <tr>\n",
       "      <th>Cote d'Ivoire</th>\n",
       "      <td>8.872683e+06</td>\n",
       "      <td>3600000.0</td>\n",
       "    </tr>\n",
       "    <tr>\n",
       "      <th>Nigeria</th>\n",
       "      <td>8.752500e+06</td>\n",
       "      <td>4500000.0</td>\n",
       "    </tr>\n",
       "    <tr>\n",
       "      <th>Croatia</th>\n",
       "      <td>8.663023e+06</td>\n",
       "      <td>4950000.0</td>\n",
       "    </tr>\n",
       "    <tr>\n",
       "      <th>Netherlands</th>\n",
       "      <td>8.650315e+06</td>\n",
       "      <td>3780000.0</td>\n",
       "    </tr>\n",
       "    <tr>\n",
       "      <th>Germany</th>\n",
       "      <td>8.580000e+06</td>\n",
       "      <td>4050000.0</td>\n",
       "    </tr>\n",
       "    <tr>\n",
       "      <th>Belgium</th>\n",
       "      <td>8.474845e+06</td>\n",
       "      <td>3600000.0</td>\n",
       "    </tr>\n",
       "    <tr>\n",
       "      <th>Serbia</th>\n",
       "      <td>8.394146e+06</td>\n",
       "      <td>3150000.0</td>\n",
       "    </tr>\n",
       "    <tr>\n",
       "      <th>Norway</th>\n",
       "      <td>8.200976e+06</td>\n",
       "      <td>3600000.0</td>\n",
       "    </tr>\n",
       "    <tr>\n",
       "      <th>Morocco</th>\n",
       "      <td>7.657941e+06</td>\n",
       "      <td>4050000.0</td>\n",
       "    </tr>\n",
       "    <tr>\n",
       "      <th>Switzerland</th>\n",
       "      <td>7.573636e+06</td>\n",
       "      <td>4500000.0</td>\n",
       "    </tr>\n",
       "    <tr>\n",
       "      <th>United States</th>\n",
       "      <td>7.570909e+06</td>\n",
       "      <td>4500000.0</td>\n",
       "    </tr>\n",
       "    <tr>\n",
       "      <th>Poland</th>\n",
       "      <td>7.453421e+06</td>\n",
       "      <td>3600000.0</td>\n",
       "    </tr>\n",
       "    <tr>\n",
       "      <th>Senegal</th>\n",
       "      <td>7.272766e+06</td>\n",
       "      <td>2700000.0</td>\n",
       "    </tr>\n",
       "    <tr>\n",
       "      <th>Sweden</th>\n",
       "      <td>6.933000e+06</td>\n",
       "      <td>3150000.0</td>\n",
       "    </tr>\n",
       "    <tr>\n",
       "      <th>Algeria</th>\n",
       "      <td>6.836897e+06</td>\n",
       "      <td>3600000.0</td>\n",
       "    </tr>\n",
       "    <tr>\n",
       "      <th>Ghana</th>\n",
       "      <td>6.123000e+06</td>\n",
       "      <td>2925000.0</td>\n",
       "    </tr>\n",
       "    <tr>\n",
       "      <th>Denmark</th>\n",
       "      <td>5.946618e+06</td>\n",
       "      <td>3150000.0</td>\n",
       "    </tr>\n",
       "    <tr>\n",
       "      <th>Ukraine</th>\n",
       "      <td>5.685366e+06</td>\n",
       "      <td>2700000.0</td>\n",
       "    </tr>\n",
       "    <tr>\n",
       "      <th>Turkey</th>\n",
       "      <td>5.086875e+06</td>\n",
       "      <td>2520000.0</td>\n",
       "    </tr>\n",
       "    <tr>\n",
       "      <th>Greece</th>\n",
       "      <td>4.224545e+06</td>\n",
       "      <td>2700000.0</td>\n",
       "    </tr>\n",
       "    <tr>\n",
       "      <th>Russia</th>\n",
       "      <td>3.542283e+06</td>\n",
       "      <td>2385000.0</td>\n",
       "    </tr>\n",
       "  </tbody>\n",
       "</table>\n",
       "</div>"
      ],
      "text/plain": [
       "                                mean     median\n",
       "country_of_citizenship                         \n",
       "England                 1.504366e+07  9000000.0\n",
       "Argentina               1.304182e+07  9900000.0\n",
       "Brazil                  1.177951e+07  5400000.0\n",
       "Portugal                1.134662e+07  4500000.0\n",
       "France                  1.076324e+07  5400000.0\n",
       "Scotland                1.009577e+07  5400000.0\n",
       "Colombia                1.002706e+07  5850000.0\n",
       "Italy                   8.966038e+06  4500000.0\n",
       "Spain                   8.922040e+06  4500000.0\n",
       "Cote d'Ivoire           8.872683e+06  3600000.0\n",
       "Nigeria                 8.752500e+06  4500000.0\n",
       "Croatia                 8.663023e+06  4950000.0\n",
       "Netherlands             8.650315e+06  3780000.0\n",
       "Germany                 8.580000e+06  4050000.0\n",
       "Belgium                 8.474845e+06  3600000.0\n",
       "Serbia                  8.394146e+06  3150000.0\n",
       "Norway                  8.200976e+06  3600000.0\n",
       "Morocco                 7.657941e+06  4050000.0\n",
       "Switzerland             7.573636e+06  4500000.0\n",
       "United States           7.570909e+06  4500000.0\n",
       "Poland                  7.453421e+06  3600000.0\n",
       "Senegal                 7.272766e+06  2700000.0\n",
       "Sweden                  6.933000e+06  3150000.0\n",
       "Algeria                 6.836897e+06  3600000.0\n",
       "Ghana                   6.123000e+06  2925000.0\n",
       "Denmark                 5.946618e+06  3150000.0\n",
       "Ukraine                 5.685366e+06  2700000.0\n",
       "Turkey                  5.086875e+06  2520000.0\n",
       "Greece                  4.224545e+06  2700000.0\n",
       "Russia                  3.542283e+06  2385000.0"
      ]
     },
     "execution_count": 279,
     "metadata": {},
     "output_type": "execute_result"
    }
   ],
   "source": [
    "players[(players.country_of_citizenship.isin(countries30)) & (players.market_value_in_gbp>(10**6)*1.12)].groupby(\"country_of_citizenship\")[\"market_value_in_gbp\"].agg([\"mean\",\"median\"]).sort_values(by=\"mean\",ascending=False)"
   ]
  }
 ],
 "metadata": {
  "kernelspec": {
   "display_name": "Python 3 (ipykernel)",
   "language": "python",
   "name": "python3"
  },
  "language_info": {
   "codemirror_mode": {
    "name": "ipython",
    "version": 3
   },
   "file_extension": ".py",
   "mimetype": "text/x-python",
   "name": "python",
   "nbconvert_exporter": "python",
   "pygments_lexer": "ipython3",
   "version": "3.7.13"
  }
 },
 "nbformat": 4,
 "nbformat_minor": 5
}
